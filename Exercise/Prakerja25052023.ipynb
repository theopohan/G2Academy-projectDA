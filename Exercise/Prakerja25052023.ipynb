{
 "cells": [
  {
   "cell_type": "code",
   "execution_count": 4,
   "id": "a923fc64",
   "metadata": {},
   "outputs": [
    {
     "name": "stdout",
     "output_type": "stream",
     "text": [
      "selamat pagi python\n"
     ]
    }
   ],
   "source": [
    "print (\"selamat pagi python\")"
   ]
  },
  {
   "cell_type": "code",
   "execution_count": 6,
   "id": "806a285f",
   "metadata": {},
   "outputs": [
    {
     "name": "stdout",
     "output_type": "stream",
     "text": [
      "50\n",
      "C\n"
     ]
    }
   ],
   "source": [
    "#mengenal variabel\n",
    "a=5\n",
    "b=10\n",
    "c=a*b\n",
    "print(c)\n",
    "print(\"C\")"
   ]
  },
  {
   "cell_type": "code",
   "execution_count": 7,
   "id": "2500cec6",
   "metadata": {},
   "outputs": [
    {
     "name": "stdout",
     "output_type": "stream",
     "text": [
      "1000\n",
      "luar persegi panjang : 1000\n"
     ]
    }
   ],
   "source": [
    "#CONTOH UNTUK MENGHITUNG luas persegi panjang : L=p x l\n",
    "panjang=50\n",
    "lebar=20\n",
    "luas=panjang*lebar\n",
    "print(luas)\n",
    "print(\"luar persegi panjang :\", luas)"
   ]
  },
  {
   "cell_type": "code",
   "execution_count": 10,
   "id": "b2b4ba36",
   "metadata": {},
   "outputs": [
    {
     "name": "stdout",
     "output_type": "stream",
     "text": [
      "masukkan panjang :50\n",
      "masukkan lebar :20\n",
      "1000\n",
      "luar persegi panjang : 1000\n"
     ]
    }
   ],
   "source": [
    "#menyempurkan program diatas dengan statement input\n",
    "panjang=input(\"masukkan panjang :\")\n",
    "panjang=int(panjang)\n",
    "lebar=input(\"masukkan lebar :\")\n",
    "lebar=int(lebar)\n",
    "luas=panjang*lebar\n",
    "print(luas)\n",
    "print(\"luar persegi panjang :\", luas)"
   ]
  },
  {
   "cell_type": "code",
   "execution_count": 11,
   "id": "f63a5765",
   "metadata": {},
   "outputs": [
    {
     "name": "stdout",
     "output_type": "stream",
     "text": [
      "8\n",
      "2\n",
      "15\n",
      "1.6666666666666667\n",
      "2\n"
     ]
    }
   ],
   "source": [
    "#aritmatika di python\n",
    "a=5\n",
    "b=3\n",
    "c=a+b\n",
    "d=a-b\n",
    "e=a*b\n",
    "f=a/b\n",
    "g=a%b\n",
    "print(c)\n",
    "print(d)\n",
    "print(e)\n",
    "print(f)\n",
    "print(g)"
   ]
  },
  {
   "cell_type": "code",
   "execution_count": 12,
   "id": "e2f9675d",
   "metadata": {},
   "outputs": [
    {
     "name": "stdout",
     "output_type": "stream",
     "text": [
      "theo rizky gunawan pohan\n",
      "namaku\n",
      "nama saya adalah : theo rizky gunawan pohan\n"
     ]
    }
   ],
   "source": [
    "namaku=\"theo rizky gunawan pohan\" #variabel bersifat string\n",
    "print(namaku)\n",
    "print(\"namaku\")\n",
    "print(\"nama saya adalah :\", namaku)"
   ]
  },
  {
   "cell_type": "code",
   "execution_count": 14,
   "id": "1c619199",
   "metadata": {},
   "outputs": [
    {
     "name": "stdout",
     "output_type": "stream",
     "text": [
      "theopohan\n",
      "theo pohan\n"
     ]
    }
   ],
   "source": [
    "firstname=\"theo\"\n",
    "lastname=\"pohan\"\n",
    "gabung=firstname+lastname\n",
    "print(gabung)\n",
    "gabung=firstname+ ' '+lastname\n",
    "print(gabung)"
   ]
  },
  {
   "cell_type": "code",
   "execution_count": 18,
   "id": "88b116de",
   "metadata": {},
   "outputs": [
    {
     "name": "stdout",
     "output_type": "stream",
     "text": [
      "masukkan angka :-1\n",
      "bilangan negatif\n",
      "angka anda adalah : -1\n"
     ]
    }
   ],
   "source": [
    "#statement percabangan program (percabangan tunggal)\n",
    "bil=int(input(\"masukkan angka :\"))\n",
    "if bil <0:\n",
    "    print(\"bilangan negatif\")\n",
    "print(\"angka anda adalah :\", bil)"
   ]
  },
  {
   "cell_type": "code",
   "execution_count": 19,
   "id": "9f0428a8",
   "metadata": {},
   "outputs": [
    {
     "name": "stdout",
     "output_type": "stream",
     "text": [
      "masukkan angka :500\n",
      "bilangan bukan negatif\n",
      "angka anda adalah : 500\n"
     ]
    }
   ],
   "source": [
    "#statement percabangan program (percabangan ganda)\n",
    "bil=int(input(\"masukkan angka :\"))\n",
    "if bil <0:\n",
    "    print(\"bilangan negatif\")\n",
    "else:\n",
    "    print (\"bilangan bukan negatif\")\n",
    "print(\"angka anda adalah :\", bil)"
   ]
  },
  {
   "cell_type": "code",
   "execution_count": 27,
   "id": "3cfcc479",
   "metadata": {},
   "outputs": [
    {
     "name": "stdout",
     "output_type": "stream",
     "text": [
      "masukkan angka :0\n",
      "bilangan nol\n",
      "angka anda adalah : 0\n"
     ]
    }
   ],
   "source": [
    "#statement percabangan program (percabangan banyak)\n",
    "bil=int(input(\"masukkan angka :\"))\n",
    "if bil <0:\n",
    "    print(\"bilangan negatif\")\n",
    "elif bil==0:\n",
    "    print (\"bilangan nol\")\n",
    "else:\n",
    "    print(\"bilangan positif\")\n",
    "print(\"angka anda adalah :\", bil)"
   ]
  },
  {
   "cell_type": "code",
   "execution_count": 28,
   "id": "fe43fd48",
   "metadata": {},
   "outputs": [
    {
     "name": "stdout",
     "output_type": "stream",
     "text": [
      "Masukkan sebuah angka: 10\n",
      "adalah bilangan genap.\n",
      "angka anda adalah : 10\n"
     ]
    }
   ],
   "source": [
    "#buatlah program untuk mendeteksi apakah angka yang diinputkan itu ganjil/ genap\n",
    "bil= int(input(\"Masukkan sebuah angka: \"))\n",
    "if bil % 2 == 0:\n",
    "    print(\"adalah bilangan genap.\")\n",
    "else:\n",
    "    print(\"adalah bilangan ganjil.\")\n",
    "print(\"angka anda adalah :\", bil)"
   ]
  },
  {
   "cell_type": "code",
   "execution_count": 33,
   "id": "a7b14c57",
   "metadata": {},
   "outputs": [
    {
     "name": "stdout",
     "output_type": "stream",
     "text": [
      "Masukkan angka: 20121\n",
      "Angka adalah ganjil positif.\n"
     ]
    }
   ],
   "source": [
    "#buatlah program untuk mendeteksi angka yang dimasukkan adalah (menyorot):\n",
    "#1. angka nol\n",
    "#2. genap positif\n",
    "#3. genap negatif\n",
    "#4. ganjil positif\n",
    "#5. ganjil negatif\n",
    "\n",
    "bil = int(input(\"Masukkan angka: \"))\n",
    "\n",
    "if bil == 0:\n",
    "    print(\"Angka adalah nol.\")\n",
    "elif bil % 2 == 0:\n",
    "    if bil > 0:\n",
    "        print(\"Angka adalah genap positif.\")\n",
    "    else:\n",
    "        print(\"Angka adalah genap negatif.\")\n",
    "else:\n",
    "    if bil > 0:\n",
    "        print(\"Angka adalah ganjil positif.\")\n",
    "    else:\n",
    "        print(\"Angka adalah ganjil negatif.\")\n"
   ]
  },
  {
   "cell_type": "code",
   "execution_count": 34,
   "id": "1ce74a07",
   "metadata": {},
   "outputs": [
    {
     "name": "stdout",
     "output_type": "stream",
     "text": [
      "Masukkan angka :12\n",
      "Angka 12 adalah : positif  genap \n"
     ]
    }
   ],
   "source": [
    "#buatlah program untuk mendeteksi angka yang dimasukkan adalah (berjajar):\n",
    "#1. angka nol\n",
    "#2. genap positif\n",
    "#3. genap negatif\n",
    "#4. ganjil positif\n",
    "#5. ganjil negatif\n",
    "\n",
    "bil=int(input(\"Masukkan angka :\"))\n",
    "komen=\"Angka \"+str(bil)+\" adalah :\"\n",
    "if bil<0:\n",
    "    komen=komen+\" negatif \"\n",
    "if bil>0:\n",
    "    komen=komen+\" positif \"\n",
    "if bil%2==0:\n",
    "    komen=komen+\" genap \"\n",
    "if bil%2==1:\n",
    "    komen=komen+\" ganjil \"\n",
    "if bil==0:\n",
    "    komen=komen+\" nol \"\n",
    "print(komen)"
   ]
  },
  {
   "cell_type": "code",
   "execution_count": 36,
   "id": "8612d989",
   "metadata": {},
   "outputs": [
    {
     "name": "stdout",
     "output_type": "stream",
     "text": [
      "indonesia raya\n",
      "0\n",
      "indonesia raya\n",
      "1\n",
      "indonesia raya\n",
      "2\n",
      "indonesia raya\n",
      "3\n",
      "indonesia raya\n",
      "4\n"
     ]
    }
   ],
   "source": [
    "#statement perulangan dengan for\n",
    "\n",
    "for i in range(0,5): #range(0,5) mengandung angka : 0, 1, 2, 3, dan 4\n",
    "    print(\"indonesia raya\")\n",
    "    print(i)"
   ]
  },
  {
   "cell_type": "code",
   "execution_count": 37,
   "id": "751ccac6",
   "metadata": {},
   "outputs": [
    {
     "name": "stdout",
     "output_type": "stream",
     "text": [
      "indonesia raya\n",
      "0\n",
      "indonesia raya\n",
      "1\n",
      "indonesia raya\n",
      "2\n",
      "indonesia raya\n",
      "3\n",
      "indonesia raya\n",
      "4\n"
     ]
    }
   ],
   "source": [
    "#statement perulangan dengan for\n",
    "\n",
    "for i in [0, 1, 2, 3, 4]: #range(0,5) mengandung angka : 0, 1, 2, 3, dan 4\n",
    "    print(\"indonesia raya\")\n",
    "    print(i)"
   ]
  },
  {
   "cell_type": "code",
   "execution_count": 41,
   "id": "f97e4d39",
   "metadata": {},
   "outputs": [
    {
     "name": "stdout",
     "output_type": "stream",
     "text": [
      "Theo Rizky Gunawan Pohan\n",
      "Theo Rizky Gunawan Pohan\n",
      "Theo Rizky Gunawan Pohan\n",
      "Theo Rizky Gunawan Pohan\n",
      "Theo Rizky Gunawan Pohan\n",
      "Theo Rizky Gunawan Pohan\n",
      "Theo Rizky Gunawan Pohan\n",
      "Theo Rizky Gunawan Pohan\n",
      "Theo Rizky Gunawan Pohan\n",
      "Theo Rizky Gunawan Pohan\n",
      "Theo Rizky Gunawan Pohan\n",
      "Theo Rizky Gunawan Pohan\n",
      "Theo Rizky Gunawan Pohan\n",
      "Theo Rizky Gunawan Pohan\n",
      "Theo Rizky Gunawan Pohan\n",
      "Theo Rizky Gunawan Pohan\n",
      "Theo Rizky Gunawan Pohan\n",
      "Theo Rizky Gunawan Pohan\n",
      "Theo Rizky Gunawan Pohan\n",
      "Theo Rizky Gunawan Pohan\n",
      "Theo Rizky Gunawan Pohan\n",
      "Theo Rizky Gunawan Pohan\n",
      "Theo Rizky Gunawan Pohan\n",
      "Theo Rizky Gunawan Pohan\n",
      "Theo Rizky Gunawan Pohan\n",
      "Theo Rizky Gunawan Pohan\n",
      "Theo Rizky Gunawan Pohan\n",
      "Theo Rizky Gunawan Pohan\n",
      "Theo Rizky Gunawan Pohan\n",
      "Theo Rizky Gunawan Pohan\n",
      "Theo Rizky Gunawan Pohan\n",
      "Theo Rizky Gunawan Pohan\n",
      "Theo Rizky Gunawan Pohan\n",
      "Theo Rizky Gunawan Pohan\n",
      "Theo Rizky Gunawan Pohan\n",
      "Theo Rizky Gunawan Pohan\n",
      "Theo Rizky Gunawan Pohan\n",
      "Theo Rizky Gunawan Pohan\n",
      "Theo Rizky Gunawan Pohan\n",
      "Theo Rizky Gunawan Pohan\n",
      "Theo Rizky Gunawan Pohan\n",
      "Theo Rizky Gunawan Pohan\n",
      "Theo Rizky Gunawan Pohan\n",
      "Theo Rizky Gunawan Pohan\n",
      "Theo Rizky Gunawan Pohan\n",
      "Theo Rizky Gunawan Pohan\n",
      "Theo Rizky Gunawan Pohan\n",
      "Theo Rizky Gunawan Pohan\n",
      "Theo Rizky Gunawan Pohan\n",
      "Theo Rizky Gunawan Pohan\n",
      "Theo Rizky Gunawan Pohan\n",
      "Theo Rizky Gunawan Pohan\n",
      "Theo Rizky Gunawan Pohan\n",
      "Theo Rizky Gunawan Pohan\n",
      "Theo Rizky Gunawan Pohan\n",
      "Theo Rizky Gunawan Pohan\n",
      "Theo Rizky Gunawan Pohan\n",
      "Theo Rizky Gunawan Pohan\n",
      "Theo Rizky Gunawan Pohan\n",
      "Theo Rizky Gunawan Pohan\n",
      "Theo Rizky Gunawan Pohan\n",
      "Theo Rizky Gunawan Pohan\n",
      "Theo Rizky Gunawan Pohan\n",
      "Theo Rizky Gunawan Pohan\n",
      "Theo Rizky Gunawan Pohan\n",
      "Theo Rizky Gunawan Pohan\n",
      "Theo Rizky Gunawan Pohan\n",
      "Theo Rizky Gunawan Pohan\n",
      "Theo Rizky Gunawan Pohan\n",
      "Theo Rizky Gunawan Pohan\n",
      "Theo Rizky Gunawan Pohan\n",
      "Theo Rizky Gunawan Pohan\n",
      "Theo Rizky Gunawan Pohan\n",
      "Theo Rizky Gunawan Pohan\n",
      "Theo Rizky Gunawan Pohan\n",
      "Theo Rizky Gunawan Pohan\n",
      "Theo Rizky Gunawan Pohan\n",
      "Theo Rizky Gunawan Pohan\n",
      "Theo Rizky Gunawan Pohan\n",
      "Theo Rizky Gunawan Pohan\n",
      "Theo Rizky Gunawan Pohan\n",
      "Theo Rizky Gunawan Pohan\n",
      "Theo Rizky Gunawan Pohan\n",
      "Theo Rizky Gunawan Pohan\n",
      "Theo Rizky Gunawan Pohan\n",
      "Theo Rizky Gunawan Pohan\n",
      "Theo Rizky Gunawan Pohan\n",
      "Theo Rizky Gunawan Pohan\n",
      "Theo Rizky Gunawan Pohan\n",
      "Theo Rizky Gunawan Pohan\n",
      "Theo Rizky Gunawan Pohan\n",
      "Theo Rizky Gunawan Pohan\n",
      "Theo Rizky Gunawan Pohan\n",
      "Theo Rizky Gunawan Pohan\n",
      "Theo Rizky Gunawan Pohan\n",
      "Theo Rizky Gunawan Pohan\n",
      "Theo Rizky Gunawan Pohan\n",
      "Theo Rizky Gunawan Pohan\n",
      "Theo Rizky Gunawan Pohan\n",
      "Theo Rizky Gunawan Pohan\n",
      "Theo Rizky Gunawan Pohan\n"
     ]
    }
   ],
   "source": [
    "for i in range(0,101): \n",
    "    print(\"Theo Rizky Gunawan Pohan\")"
   ]
  },
  {
   "cell_type": "code",
   "execution_count": 40,
   "id": "3e2092fa",
   "metadata": {},
   "outputs": [
    {
     "name": "stdout",
     "output_type": "stream",
     "text": [
      "1\n",
      "2\n",
      "3\n",
      "4\n",
      "5\n",
      "6\n",
      "hasil akumulasi x : 21\n"
     ]
    }
   ],
   "source": [
    "#mencoba akumulator\n",
    "akumulasi=0\n",
    "for x in [1, 2, 3, 4, 5, 6]:\n",
    "    akumulasi=akumulasi+x\n",
    "    print(x)\n",
    "print(\"hasil akumulasi x :\", akumulasi)"
   ]
  },
  {
   "cell_type": "code",
   "execution_count": 43,
   "id": "6e79634d",
   "metadata": {},
   "outputs": [
    {
     "name": "stdout",
     "output_type": "stream",
     "text": [
      "bilangan 1 ganjil\n",
      "bilangan 2 genap\n",
      "bilangan 3 ganjil\n",
      "bilangan 4 genap\n",
      "bilangan 5 ganjil\n",
      "bilangan 6 genap\n"
     ]
    }
   ],
   "source": [
    "#mencoba akumulator\n",
    "akumulasi=0\n",
    "for x in [1, 2, 3, 4, 5, 6]:\n",
    "    if x%2 == 0:\n",
    "        print(\"bilangan\", x, \"genap\")\n",
    "    else:\n",
    "        print (\"bilangan\", x, \"ganjil\")"
   ]
  },
  {
   "cell_type": "code",
   "execution_count": 44,
   "id": "9b90558f",
   "metadata": {},
   "outputs": [
    {
     "name": "stdout",
     "output_type": "stream",
     "text": [
      "['apple', 'banana', 'cherry']\n",
      "3\n"
     ]
    }
   ],
   "source": [
    "#mengenal variabel array/ LIST\n",
    "#LIST : Sebuah variabel yang isinya ada beberapa/ banyak data\n",
    "#Contoh :\n",
    "\n",
    "thislist = [\"apple\", \"banana\", \"cherry\"]\n",
    "\n",
    "print(thislist)\n",
    "print(len(thislist))"
   ]
  },
  {
   "cell_type": "code",
   "execution_count": 45,
   "id": "a7efdc25",
   "metadata": {},
   "outputs": [
    {
     "name": "stdout",
     "output_type": "stream",
     "text": [
      "['abc', 34, True, 40.233, 'male']\n"
     ]
    }
   ],
   "source": [
    "#Tipe data dalam list boleh berbeda beda\n",
    "list1 = [\"abc\", 34, True, 40.233, \"male\"]\n",
    "print(list1)"
   ]
  },
  {
   "cell_type": "code",
   "execution_count": 46,
   "id": "f8fc93d0",
   "metadata": {},
   "outputs": [
    {
     "name": "stdout",
     "output_type": "stream",
     "text": [
      "apple\n",
      "banana\n",
      "cherry\n",
      "cherry\n",
      "banana\n"
     ]
    }
   ],
   "source": [
    "#cara mengakses sebagian dari isi list dengan menyebut nomor indeks\n",
    "thislist = [\"apple\", \"banana\", \"cherry\"]\n",
    "print(thislist[0])\n",
    "print(thislist[1])\n",
    "print(thislist[2])\n",
    "print(thislist[-1])\n",
    "print(thislist[-2])"
   ]
  },
  {
   "cell_type": "code",
   "execution_count": 48,
   "id": "12a40300",
   "metadata": {},
   "outputs": [
    {
     "name": "stdout",
     "output_type": "stream",
     "text": [
      "['cherry', 'orange', 'kiwi']\n",
      "['apple', 'banana', 'cherry', 'orange']\n",
      "['cherry', 'orange', 'kiwi', 'melon', 'mango']\n",
      "['orange', 'kiwi', 'melon']\n",
      "yes, 'banana' is in the fruit list\n"
     ]
    }
   ],
   "source": [
    "thislist = [\"apple\", \"banana\", \"cherry\", \"orange\", \"kiwi\", \"melon\", \"mango\"]\n",
    "print(thislist[2:5])\n",
    "print(thislist[:4])\n",
    "print(thislist[2:])\n",
    "print(thislist[-4:-1])\n",
    "if \"banana\" in thislist:\n",
    "    print(\"yes, 'banana' is in the fruit list\")"
   ]
  },
  {
   "cell_type": "code",
   "execution_count": 49,
   "id": "5f6faca5",
   "metadata": {},
   "outputs": [
    {
     "name": "stdout",
     "output_type": "stream",
     "text": [
      "['apple', 'blackcurrant', 'cherry', 'orange', 'kiwi', 'melon', 'manggo']\n"
     ]
    }
   ],
   "source": [
    "#mengganti sebagian isi list\n",
    "thislist = [\"apple\", \"banana\", \"cherry\", \"orange\", \"kiwi\", \"melon\", \"manggo\"]\n",
    "thislist[1] = \"blackcurrant\"\n",
    "print(thislist)"
   ]
  },
  {
   "cell_type": "code",
   "execution_count": 50,
   "id": "d32cec89",
   "metadata": {},
   "outputs": [
    {
     "name": "stdout",
     "output_type": "stream",
     "text": [
      "['apple', 'blackcurrant', 'watermelon', 'orange', 'kiwi', 'manggo']\n"
     ]
    }
   ],
   "source": [
    "thislist = [\"apple\", \"banana\", \"cherry\", \"orange\", \"kiwi\", \"manggo\"]\n",
    "thislist[1:3] = [\"blackcurrant\", \"watermelon\"]\n",
    "print(thislist)"
   ]
  },
  {
   "cell_type": "code",
   "execution_count": 51,
   "id": "770c8988",
   "metadata": {},
   "outputs": [
    {
     "name": "stdout",
     "output_type": "stream",
     "text": [
      "['apple', 'banana', 'cherry', 'orange']\n"
     ]
    }
   ],
   "source": [
    "#menambah isi list dari posisi belakang\n",
    "thislist = [\"apple\", \"banana\", \"cherry\"]\n",
    "thislist.append(\"orange\")\n",
    "print(thislist)"
   ]
  },
  {
   "cell_type": "code",
   "execution_count": 52,
   "id": "dbe6532f",
   "metadata": {},
   "outputs": [
    {
     "name": "stdout",
     "output_type": "stream",
     "text": [
      "apple\n",
      "banana\n",
      "pisang kesukaanku\n",
      "cherry\n"
     ]
    }
   ],
   "source": [
    "#mengkombinasikan FOR dan IF untuk mengelusuri list\n",
    "fruits = [\"apple\", \"banana\", \"cherry\"]\n",
    "for x in fruits:\n",
    "    print(x)\n",
    "    if x == \"banana\":\n",
    "        print('pisang kesukaanku')"
   ]
  },
  {
   "cell_type": "code",
   "execution_count": 55,
   "id": "d70f84fc",
   "metadata": {},
   "outputs": [
    {
     "name": "stdout",
     "output_type": "stream",
     "text": [
      "language list 1:  ['python', 'php', 'java']\n",
      "language list 2:  ['c', 'c++', 'C#']\n",
      "Result:  ['python', 'php', 'java', ['c', 'c++', 'C#']]\n",
      "Result:  ['python', 'php', 'java', 'c', 'c++', 'C#']\n"
     ]
    }
   ],
   "source": [
    "languages1=['python', 'php', 'java',]\n",
    "languages2=['c', 'c++', 'C#']\n",
    "print(\"language list 1: \", languages1)\n",
    "print(\"language list 2: \", languages2)\n",
    "\n",
    "#append list into another list\n",
    "languages1.append(languages2)\n",
    "print(\"Result: \",languages1)\n",
    "\n",
    "languages1=['python', 'php', 'java',]\n",
    "languages2=['c', 'c++', 'C#']\n",
    "\n",
    "#Extend list into another list\n",
    "languages1.extend(languages2)\n",
    "print(\"Result: \",languages1)"
   ]
  },
  {
   "cell_type": "code",
   "execution_count": 56,
   "id": "85cbce55",
   "metadata": {},
   "outputs": [
    {
     "name": "stdout",
     "output_type": "stream",
     "text": [
      "hello from a function\n",
      "saya belajar fungsi\n",
      "hello from a function\n",
      "saya belajar fungsi\n",
      "hello from a function\n",
      "saya belajar fungsi\n"
     ]
    }
   ],
   "source": [
    "#mengenal Fungsi/ sub program\n",
    "\n",
    "def my_fungsi():\n",
    "    print(\"hello from a function\")\n",
    "    print(\"saya belajar fungsi\")\n",
    "\n",
    "my_fungsi()\n",
    "my_fungsi()\n",
    "my_fungsi()"
   ]
  },
  {
   "cell_type": "code",
   "execution_count": 57,
   "id": "9843b8ee",
   "metadata": {},
   "outputs": [
    {
     "name": "stdout",
     "output_type": "stream",
     "text": [
      "Luasnya adalah  30\n",
      "Luasnya adalah  60\n",
      "Luasnya adalah  150\n"
     ]
    }
   ],
   "source": [
    "#parameter fungsi(mengirim nilai ke fungsi)\n",
    "def persegipanjang(panjang, lebar):\n",
    "    luas=panjang*lebar\n",
    "    print(\"Luasnya adalah \", luas)\n",
    "    \n",
    "persegipanjang(5,6)\n",
    "persegipanjang(10,6)\n",
    "persegipanjang(15,10)"
   ]
  },
  {
   "cell_type": "code",
   "execution_count": null,
   "id": "c74c5e4a",
   "metadata": {},
   "outputs": [],
   "source": []
  }
 ],
 "metadata": {
  "kernelspec": {
   "display_name": "Python 3 (ipykernel)",
   "language": "python",
   "name": "python3"
  },
  "language_info": {
   "codemirror_mode": {
    "name": "ipython",
    "version": 3
   },
   "file_extension": ".py",
   "mimetype": "text/x-python",
   "name": "python",
   "nbconvert_exporter": "python",
   "pygments_lexer": "ipython3",
   "version": "3.10.9"
  }
 },
 "nbformat": 4,
 "nbformat_minor": 5
}
